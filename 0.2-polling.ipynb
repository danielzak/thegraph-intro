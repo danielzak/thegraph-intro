{
 "cells": [
  {
   "cell_type": "code",
   "execution_count": 148,
   "id": "written-difference",
   "metadata": {},
   "outputs": [],
   "source": [
    "import requests\n",
    "import json\n",
    "import numpy as np\n",
    "from datetime import datetime\n",
    "\n",
    "# The following code is a modified query from 'Getting started with The Graph in Python - Intro' \n",
    "# available at https://github.com/danielzak/thegraph-intro/blob/main/0.1-Intro.ipynb\n",
    "# \n",
    "# We use polling to create a simple \"whale alert\" function. It monitors a Uniswap pair for \n",
    "# transactions above a certain threhold.\n",
    "#\n",
    "# This first cell is the code with a few comments, next cell is an example of a polling function \n",
    "# that polls swaps in a pair and executes when a certain condition is met.\n",
    "\n",
    "query = \"\"\"query {\n",
    "    swaps(first:100, pair: \"0xb4e16d0168e52d35cacd2c6185b44281ec28c9dc\", orderBy: timestamp, orderDirection: desc) {\n",
    "      timestamp\n",
    "      amountUSD\n",
    "    }\n",
    "}\"\"\"\n",
    "\n",
    "# Call the public, hosted TheGraph endpoint\n",
    "url = 'https://api.thegraph.com/subgraphs/name/uniswap/uniswap-v2'\n",
    "r = requests.post(url, json={'query': query})\n",
    "#print(r.status_code)\n",
    "\n",
    "# The request returns a json structured string.\n",
    "json_data = json.loads(r.text)\n",
    "#print(json_data)\n",
    "\n",
    "# Create an empty Numpy array\n",
    "arr = np.empty((0,2), int)\n",
    "\n",
    "# Populate the Numpy array, while converting Unix timestamps to datetime objects and keeing the sender hex address as a string\n",
    "for l in json_data['data']['swaps']:\n",
    "    arr = np.append(arr, np.array([[datetime.fromtimestamp(int(l['timestamp'])), np.float(l['amountUSD'])]]), axis=0)\n"
   ]
  },
  {
   "cell_type": "code",
   "execution_count": 149,
   "id": "behind-scope",
   "metadata": {},
   "outputs": [
    {
     "name": "stdout",
     "output_type": "stream",
     "text": [
      "[]\n",
      "[]\n",
      "[]\n",
      "[]\n"
     ]
    },
    {
     "ename": "KeyboardInterrupt",
     "evalue": "",
     "output_type": "error",
     "traceback": [
      "\u001b[0;31m---------------------------------------------------------------------------\u001b[0m",
      "\u001b[0;31mKeyboardInterrupt\u001b[0m                         Traceback (most recent call last)",
      "\u001b[0;32m<ipython-input-149-9b3ec43728c4>\u001b[0m in \u001b[0;36m<module>\u001b[0;34m\u001b[0m\n\u001b[1;32m     35\u001b[0m \u001b[0;31m# lamba is the break condition for the poll, in this case it breaks when there the list of swaps above the threshold is not empty\u001b[0m\u001b[0;34m\u001b[0m\u001b[0;34m\u001b[0m\u001b[0;34m\u001b[0m\u001b[0m\n\u001b[1;32m     36\u001b[0m \u001b[0;34m\u001b[0m\u001b[0m\n\u001b[0;32m---> 37\u001b[0;31m polling2.poll(\n\u001b[0m\u001b[1;32m     38\u001b[0m     \u001b[0;32mlambda\u001b[0m\u001b[0;34m:\u001b[0m \u001b[0mwhale_watch\u001b[0m\u001b[0;34m(\u001b[0m\u001b[0;34m)\u001b[0m\u001b[0;34m.\u001b[0m\u001b[0many\u001b[0m\u001b[0;34m(\u001b[0m\u001b[0;34m)\u001b[0m \u001b[0;34m!=\u001b[0m \u001b[0;36m0\u001b[0m\u001b[0;34m,\u001b[0m\u001b[0;34m\u001b[0m\u001b[0;34m\u001b[0m\u001b[0m\n\u001b[1;32m     39\u001b[0m     \u001b[0mstep\u001b[0m\u001b[0;34m=\u001b[0m\u001b[0;36m10\u001b[0m\u001b[0;34m,\u001b[0m\u001b[0;34m\u001b[0m\u001b[0;34m\u001b[0m\u001b[0m\n",
      "\u001b[0;32m/opt/conda/lib/python3.8/site-packages/polling2.py\u001b[0m in \u001b[0;36mpoll\u001b[0;34m(target, step, args, kwargs, timeout, max_tries, check_success, step_function, ignore_exceptions, poll_forever, collect_values, log, log_error)\u001b[0m\n\u001b[1;32m    214\u001b[0m             \u001b[0;32mraise\u001b[0m \u001b[0mTimeoutException\u001b[0m\u001b[0;34m(\u001b[0m\u001b[0mvalues\u001b[0m\u001b[0;34m,\u001b[0m \u001b[0mlast_item\u001b[0m\u001b[0;34m)\u001b[0m\u001b[0;34m\u001b[0m\u001b[0;34m\u001b[0m\u001b[0m\n\u001b[1;32m    215\u001b[0m \u001b[0;34m\u001b[0m\u001b[0m\n\u001b[0;32m--> 216\u001b[0;31m         \u001b[0mtime\u001b[0m\u001b[0;34m.\u001b[0m\u001b[0msleep\u001b[0m\u001b[0;34m(\u001b[0m\u001b[0mstep\u001b[0m\u001b[0;34m)\u001b[0m\u001b[0;34m\u001b[0m\u001b[0;34m\u001b[0m\u001b[0m\n\u001b[0m\u001b[1;32m    217\u001b[0m         \u001b[0mstep\u001b[0m \u001b[0;34m=\u001b[0m \u001b[0mstep_function\u001b[0m\u001b[0;34m(\u001b[0m\u001b[0mstep\u001b[0m\u001b[0;34m)\u001b[0m\u001b[0;34m\u001b[0m\u001b[0;34m\u001b[0m\u001b[0m\n",
      "\u001b[0;31mKeyboardInterrupt\u001b[0m: "
     ]
    }
   ],
   "source": [
    "# A polling function is made using Polling2. The above code is wrapped as a function that can be called continously.\n",
    "# This code works inside this Jupyter notebook, but polling should be done in a standalone .py file. \n",
    "\n",
    "# Polling2 needs to be installed first using \"pip install polling2\"\n",
    "# Polling2 documentation available at https://polling2.readthedocs.io/en/latest/index.html\n",
    "\n",
    "import polling2\n",
    "import requests\n",
    "\n",
    "query = \"\"\"query {\n",
    "    swaps(first:100, pair: \"0xb4e16d0168e52d35cacd2c6185b44281ec28c9dc\", orderBy: timestamp, orderDirection: desc) {\n",
    "      timestamp\n",
    "      amountUSD\n",
    "    }\n",
    "}\"\"\"\n",
    "\n",
    "# Modify this function to change what happens during each polling cycle, and how to break the cycle\n",
    "def whale_watch():\n",
    "    url = 'https://api.thegraph.com/subgraphs/name/uniswap/uniswap-v2'\n",
    "    r = requests.post(url, json={'query': query})\n",
    "    json_data = json.loads(r.text)\n",
    "    arr = np.empty((0,2), int)\n",
    "    \n",
    "    for l in json_data['data']['swaps']:\n",
    "        arr = np.append(arr, np.array([[datetime.fromtimestamp(int(l['timestamp'])), np.float(l['amountUSD'])]]), axis=0)\n",
    "    \n",
    "    # Set the cutoff in USD for the whale alert. Swaps above 100000 are rare, set to 1000-10000 for the condition to trigger\n",
    "    a = arr[arr[:,1]>100000]\n",
    "    print(a)\n",
    "\n",
    "    return a\n",
    "        \n",
    "# The polling method\n",
    "# step=10 sets the time between each poll to ten seconds\n",
    "# lamba is the break condition for the poll, in this case it breaks when there the list of swaps above the threshold is not empty\n",
    "\n",
    "polling2.poll(\n",
    "    lambda: whale_watch().any() != 0,\n",
    "    step=10,\n",
    "    poll_forever=True)"
   ]
  },
  {
   "cell_type": "code",
   "execution_count": null,
   "id": "civic-benefit",
   "metadata": {},
   "outputs": [],
   "source": []
  }
 ],
 "metadata": {
  "kernelspec": {
   "display_name": "Python 3",
   "language": "python",
   "name": "python3"
  },
  "language_info": {
   "codemirror_mode": {
    "name": "ipython",
    "version": 3
   },
   "file_extension": ".py",
   "mimetype": "text/x-python",
   "name": "python",
   "nbconvert_exporter": "python",
   "pygments_lexer": "ipython3",
   "version": "3.8.8"
  }
 },
 "nbformat": 4,
 "nbformat_minor": 5
}
