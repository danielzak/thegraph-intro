{
 "cells": [
  {
   "cell_type": "markdown",
   "id": "arctic-success",
   "metadata": {},
   "source": [
    "# Pagination and more Pandas\n",
    "\n",
    "When sending a subgraph query, the number of entities that can be returned is limited. In many cases, espacially in analytics and machine learning we want access to as much data as possible. This tutorial will introduce the concepts of pagination to download larger datasets.  \n",
    "  \n",
    "Finally, this tutorial will also import the data to Pandas for initial analysis."
   ]
  },
  {
   "cell_type": "markdown",
   "id": "everyday-clarity",
   "metadata": {},
   "source": [
    "## Initial query\n",
    "\n",
    "The first step is to use the Graph to access to up to date, indexed on-chain data. Data is accessed through subgraphs, where each subgraphs can be thought of as a database containing a specific subset of all on-chain data.  \n",
    "  \n",
    "Each subgraphs has its own schema, which can be found and explored through the Graph Explorer at [thegraph.com/explorer](https://thegraph.com/explorer/).  \n",
    "  \n",
    "The first step in any project will be to find the data of interest and then building a query for this data. The following is an example using the Uniswap v2 subgraph to access ether price data.  "
   ]
  },
  {
   "cell_type": "code",
   "execution_count": 83,
   "id": "inside-domain",
   "metadata": {},
   "outputs": [],
   "source": [
    "# step 0, some imports that will be used in this example\n",
    "import requests\n",
    "import json\n",
    "import numpy as np\n",
    "import pandas as pd\n",
    "from datetime import datetime\n",
    "import matplotlib.pyplot as plt"
   ]
  },
  {
   "cell_type": "code",
   "execution_count": 84,
   "id": "unavailable-combination",
   "metadata": {},
   "outputs": [
    {
     "name": "stdout",
     "output_type": "stream",
     "text": [
      "200\n"
     ]
    }
   ],
   "source": [
    "# 1. - Request subgraph data\n",
    "# Subgraph ID: QmWTrJJ9W8h3JE19FhCzzPYsJ2tgXZCdUqnbyuo64ToTBN\n",
    "# Subgraph URL: https://api.thegraph.com/subgraphs/name/uniswap/uniswap-v2\n",
    "\n",
    "# Data generated from TheGraph Uniswap v2 public, hosted API at https://thegraph.com/explorer/subgraph/uniswap/uniswap-v2\n",
    "# Token ID for WETH: 0xc02aaa39b223fe8d0a0e5c4f27ead9083c756cc2\n",
    "# Token ID for WBTC: 0x2260fac5e5542a773aa44fbcfedf7c193bc2c599\n",
    "\n",
    "# Sample GraphQL query:\n",
    "# Daily price data for WETH in USD. Change the token ID e.g. to WBTC above to test another token.\n",
    "\n",
    "query = \"\"\"query {\n",
    "    tokenDayDatas(first:100, where: {token: \"0xc02aaa39b223fe8d0a0e5c4f27ead9083c756cc2\"}, orderBy: date, orderDirection: desc) {\n",
    "      date\n",
    "      priceUSD\n",
    "    }\n",
    "}\"\"\"\n",
    "\n",
    "# Call the public hosted TheGraph endpoint with the query\n",
    "url = 'https://api.thegraph.com/subgraphs/name/uniswap/uniswap-v2'\n",
    "r = requests.post(url, json={'query': query})\n",
    "print(r.status_code)\n"
   ]
  },
  {
   "cell_type": "code",
   "execution_count": 85,
   "id": "collected-mention",
   "metadata": {},
   "outputs": [
    {
     "name": "stdout",
     "output_type": "stream",
     "text": [
      "(100, 2)\n"
     ]
    }
   ],
   "source": [
    "# The request returns a json structured string. First we transform the string into a json object:\n",
    "json_data = json.loads(r.text)\n",
    "\n",
    "# Next step is to convert the json object to an array. An empty array is created, and then the it\n",
    "# iterates over the data and converts it into float numbers (the price) and datetime objects \n",
    "# (the timestamps) while appending it to the end of the initally empty array.\n",
    "\n",
    "# Create an empty Numpy array\n",
    "arr = np.empty((0,2), int)\n",
    "\n",
    "# Populate the Numpy array, while converting Unix timestamps to datetime objects, and price to float numbers\n",
    "for l in json_data['data']['tokenDayDatas']:\n",
    "    arr = np.append(arr, np.array([[datetime.fromtimestamp(l['date']), np.float(l['priceUSD'])]]), axis=0)\n",
    "\n",
    "print(arr.shape) # the array should have 100 rows\n",
    "#print(r.text)"
   ]
  },
  {
   "cell_type": "markdown",
   "id": "efficient-india",
   "metadata": {},
   "source": [
    "## Skipping to entries\n",
    "\n",
    "The query above returns the last 1000 daily price data points for USD/ETH. If we want more entries, we can use the `skip` parameter to return another set of entries and then merge the responses. \n",
    "\n"
   ]
  },
  {
   "cell_type": "code",
   "execution_count": 86,
   "id": "formed-decrease",
   "metadata": {},
   "outputs": [
    {
     "name": "stdout",
     "output_type": "stream",
     "text": [
      "200\n"
     ]
    }
   ],
   "source": [
    "query = \"\"\"query {\n",
    "    tokenDayDatas(first:100, skip:100, where: {token: \"0xc02aaa39b223fe8d0a0e5c4f27ead9083c756cc2\"}, orderBy: date, orderDirection: desc) {\n",
    "      date\n",
    "      priceUSD\n",
    "    }\n",
    "}\"\"\"\n",
    "\n",
    "# Call the public hosted TheGraph endpoint with the query\n",
    "url = 'https://api.thegraph.com/subgraphs/name/uniswap/uniswap-v2'\n",
    "r = requests.post(url, json={'query': query})\n",
    "print(r.status_code)"
   ]
  },
  {
   "cell_type": "code",
   "execution_count": 87,
   "id": "offshore-potential",
   "metadata": {},
   "outputs": [
    {
     "name": "stdout",
     "output_type": "stream",
     "text": [
      "(200, 2)\n"
     ]
    }
   ],
   "source": [
    "# Convert the new response to json\n",
    "json_data = json.loads(r.text)\n",
    "\n",
    "# Then append the new response to the previously created array\n",
    "for l in json_data['data']['tokenDayDatas']:\n",
    "    arr = np.append(arr, np.array([[datetime.fromtimestamp(l['date']), np.float(l['priceUSD'])]]), axis=0)\n",
    "\n",
    "print(arr.shape) # the array should now have 200 rows"
   ]
  },
  {
   "cell_type": "markdown",
   "id": "minute-carrier",
   "metadata": {},
   "source": [
    "## Pagination\n",
    "\n",
    "However, performance takes a hit when skipping large number of entries, and should in general be avoided. If a large number of entities is needed, it is much more performant and flexible to base queries on an attribute and then filter by that attribute. "
   ]
  },
  {
   "cell_type": "code",
   "execution_count": 88,
   "id": "military-labor",
   "metadata": {},
   "outputs": [
    {
     "name": "stdout",
     "output_type": "stream",
     "text": [
      "200\n"
     ]
    }
   ],
   "source": [
    "lastDate = 0 #use date 0 to start from scratch (similar to using an empty string (\"\") if filtering with strings)\n",
    "\n",
    "# the lastDate parameter is inserted into the query string using the old school % formatting (%d for integer, %s for string)\n",
    "query = \"\"\"query {\n",
    "    tokenDayDatas(first:100, where: {token: \"0xc02aaa39b223fe8d0a0e5c4f27ead9083c756cc2\", date_gt: %d}, orderBy: date, orderDirection: desc) {\n",
    "      date\n",
    "      priceUSD\n",
    "    }\n",
    "}\"\"\" % (lastDate)\n",
    "\n",
    "# Call the public hosted TheGraph endpoint with the query\n",
    "url = 'https://api.thegraph.com/subgraphs/name/uniswap/uniswap-v2'\n",
    "r = requests.post(url, json={'query': query})\n",
    "print(r.status_code)"
   ]
  },
  {
   "cell_type": "markdown",
   "id": "important-office",
   "metadata": {},
   "source": [
    "To iterate the query it's put in a loop. The loop reads the last date of the response and update the query for the next iteration. In this example, each page is 100 entries, as Uniswap data is only available from May 2020."
   ]
  },
  {
   "cell_type": "code",
   "execution_count": 158,
   "id": "equipped-fleet",
   "metadata": {},
   "outputs": [
    {
     "name": "stdout",
     "output_type": "stream",
     "text": [
      "200\n",
      "200\n",
      "200\n",
      "200\n",
      "200\n",
      "200\n",
      "(439, 5)\n"
     ]
    }
   ],
   "source": [
    "arr = np.empty((0,5), int) #initate an empty array, 5 rows this time\n",
    "\n",
    "lastDate, lastDate2 = 0,int(datetime.now().timestamp()) #two variables to keep track of timestamps, using current unix time \n",
    "\n",
    "while True: #endless loop with break statement in the end\n",
    "    lastDate = lastDate2\n",
    "    \n",
    "    query = \"\"\"query {\n",
    "        tokenDayDatas(first:100, where: {token: \"0xc02aaa39b223fe8d0a0e5c4f27ead9083c756cc2\", date_lte: %d}, orderBy: date, orderDirection: desc) {\n",
    "        date\n",
    "        priceUSD\n",
    "        dailyVolumeUSD\n",
    "        totalLiquidityUSD\n",
    "        dailyTxns\n",
    "        }\n",
    "    }\"\"\" % (lastDate)\n",
    "\n",
    "    # Call the public hosted TheGraph endpoint with the query\n",
    "    url = 'https://api.thegraph.com/subgraphs/name/uniswap/uniswap-v2'\n",
    "    r = requests.post(url, json={'query': query})\n",
    "    print(r.status_code)\n",
    "\n",
    "    # Convert the new response to json\n",
    "    json_data = json.loads(r.text)\n",
    "\n",
    "    # Then append the new response to the previously created array\n",
    "    for l in json_data['data']['tokenDayDatas']:\n",
    "        arr = np.append(arr, np.array([[datetime.fromtimestamp(l['date']), np.float(l['priceUSD']), np.float(l['dailyVolumeUSD']), np.float(l['totalLiquidityUSD']), np.int(l['dailyTxns'])]]), axis=0)\n",
    "    \n",
    "    lastDate2 = json_data['data']['tokenDayDatas'][-1]['date'] #-1 is the last element in a Python list\n",
    "    \n",
    "    if lastDate == lastDate2:\n",
    "        break\n",
    "\n",
    "print(arr.shape)"
   ]
  },
  {
   "cell_type": "code",
   "execution_count": 159,
   "id": "crude-lighting",
   "metadata": {},
   "outputs": [
    {
     "data": {
      "text/plain": [
       "Text(0, 0.5, 'usd')"
      ]
     },
     "execution_count": 159,
     "metadata": {},
     "output_type": "execute_result"
    },
    {
     "data": {
      "image/png": "[encoded data removed]",
      "text/plain": [
       "<Figure size 864x576 with 1 Axes>"
      ]
     },
     "metadata": {
      "needs_background": "light"
     },
     "output_type": "display_data"
    }
   ],
   "source": [
    "# Plot the data\n",
    "f, ax = plt.subplots(1,1,figsize=(12,8))\n",
    "ax.plot((arr[:,0]),arr[:,1], label='USD/ETH' )\n",
    "ax.legend()\n",
    "ax.set_xlabel('days')\n",
    "ax.set_ylabel('usd')\n",
    "#ax.set_yscale('log')"
   ]
  },
  {
   "cell_type": "markdown",
   "id": "english-newark",
   "metadata": {},
   "source": [
    "## Pandas\n",
    "\n",
    "Now it's possible to import the (potentially large) array to Pandas for further work and analysis. Following are a few short examples of how to import the data as a Dataframe and a few other examples of what can be done.\n"
   ]
  },
  {
   "cell_type": "code",
   "execution_count": 160,
   "id": "medieval-press",
   "metadata": {},
   "outputs": [
    {
     "name": "stdout",
     "output_type": "stream",
     "text": [
      "          Date    Price USD     Daily Vol USD Daily Liquidity USD Transactions\n",
      "0   2021-07-14   1943.83268  173356340.283626   1425442819.623755        49118\n",
      "1   2021-07-13  1938.987847  235439580.254658   1426791185.721634        86550\n",
      "2   2021-07-12  2035.935734  218112021.196549   1491979863.812764        84954\n",
      "3   2021-07-11  2141.075595  174552040.998775   1580901277.826104        88696\n",
      "4   2021-07-10  2115.008568  229467816.549082   1561535581.035897        94827\n",
      "..         ...          ...               ...                 ...          ...\n",
      "434 2020-05-08   212.096624               0.0           12.695072            8\n",
      "435 2020-05-07   201.358662               0.0            2.097297            2\n",
      "436 2020-05-06   201.358458          0.003059            2.097295            5\n",
      "437 2020-05-05   201.486251          0.010931               0.989            3\n",
      "438 2020-05-05   201.486251          0.010931               0.989            3\n",
      "\n",
      "[439 rows x 5 columns]\n"
     ]
    }
   ],
   "source": [
    "# Pandas\n",
    "\n",
    "import pandas as pd\n",
    "\n",
    "df = pd.DataFrame(arr, columns=['Date','Price USD', 'Daily Vol USD', 'Daily Liquidity USD', 'Transactions'])\n",
    "\n",
    "pd.set_option(\"display.max_rows\", 10, \"display.max_columns\", None)\n",
    "print(df)"
   ]
  },
  {
   "cell_type": "code",
   "execution_count": 175,
   "id": "surgical-perth",
   "metadata": {},
   "outputs": [
    {
     "name": "stdout",
     "output_type": "stream",
     "text": [
      "<class 'pandas.core.frame.DataFrame'>\n",
      "RangeIndex: 439 entries, 0 to 438\n",
      "Data columns (total 5 columns):\n",
      " #   Column               Non-Null Count  Dtype         \n",
      "---  ------               --------------  -----         \n",
      " 0   Date                 439 non-null    datetime64[ns]\n",
      " 1   Price USD            439 non-null    object        \n",
      " 2   Daily Vol USD        439 non-null    object        \n",
      " 3   Daily Liquidity USD  439 non-null    object        \n",
      " 4   Transactions         439 non-null    object        \n",
      "dtypes: datetime64[ns](1), object(4)\n",
      "memory usage: 17.3+ KB\n"
     ]
    }
   ],
   "source": [
    "# Basic information\n",
    "df.info()"
   ]
  },
  {
   "cell_type": "code",
   "execution_count": 176,
   "id": "demanding-butterfly",
   "metadata": {},
   "outputs": [
    {
     "data": {
      "text/plain": [
       "298492907573.3774"
      ]
     },
     "execution_count": 176,
     "metadata": {},
     "output_type": "execute_result"
    }
   ],
   "source": [
    "# Examples of queries\n",
    "df['Daily Vol USD'].sum() #total volume"
   ]
  },
  {
   "cell_type": "code",
   "execution_count": 177,
   "id": "overhead-puzzle",
   "metadata": {},
   "outputs": [
    {
     "data": {
      "text/plain": [
       "34119942201.871826"
      ]
     },
     "execution_count": 177,
     "metadata": {},
     "output_type": "execute_result"
    }
   ],
   "source": [
    "# What was the daily maximum volume?\n",
    "df['Daily Vol USD'].max()"
   ]
  },
  {
   "cell_type": "code",
   "execution_count": 178,
   "id": "normal-level",
   "metadata": {},
   "outputs": [
    {
     "data": {
      "text/plain": [
       "0         49118\n",
       "1        135668\n",
       "2        220622\n",
       "3        309318\n",
       "4        404145\n",
       "         ...   \n",
       "434    50913356\n",
       "435    50913358\n",
       "436    50913363\n",
       "437    50913366\n",
       "438    50913369\n",
       "Name: Transactions, Length: 439, dtype: object"
      ]
     },
     "execution_count": 178,
     "metadata": {},
     "output_type": "execute_result"
    }
   ],
   "source": [
    "# Cumulative sum of transactions?\n",
    "df['Transactions'].cumsum()"
   ]
  },
  {
   "cell_type": "code",
   "execution_count": null,
   "id": "wound-stress",
   "metadata": {},
   "outputs": [],
   "source": []
  }
 ],
 "metadata": {
  "kernelspec": {
   "display_name": "Python 3",
   "language": "python",
   "name": "python3"
  },
  "language_info": {
   "codemirror_mode": {
    "name": "ipython",
    "version": 3
   },
   "file_extension": ".py",
   "mimetype": "text/x-python",
   "name": "python",
   "nbconvert_exporter": "python",
   "pygments_lexer": "ipython3",
   "version": "3.8.8"
  }
 },
 "nbformat": 4,
 "nbformat_minor": 5
}
